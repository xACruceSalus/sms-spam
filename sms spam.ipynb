{
 "metadata": {
  "name": "",
  "signature": "sha256:180f13a25664f5f9b921c972a2cceabd7496500c1746fdf37404134f83343d5d"
 },
 "nbformat": 3,
 "nbformat_minor": 0,
 "worksheets": [
  {
   "cells": [
    {
     "cell_type": "heading",
     "level": 1,
     "metadata": {},
     "source": [
      "Import file into Pandas"
     ]
    },
    {
     "cell_type": "code",
     "collapsed": false,
     "input": [
      "from sklearn.cross_validation import train_test_split\n",
      "from sklearn.naive_bayes import GaussianNB\n",
      "from sklearn.cluster import KMeans\n",
      "from sklearn import metrics\n",
      "from sklearn.cross_validation import cross_val_score\n",
      "\n",
      "\n",
      "import pandas as pd\n",
      "from textblob import TextBlob\n",
      "import re\n",
      "import matplotlib.pyplot as plt\n",
      "%matplotlib inline\n",
      "\n",
      "\n",
      "orig_sms = pd.read_csv('smsspamcollection/SMSSpamCollection', delimiter='\\t')\n",
      "orig_sms.columns = ['ham_spam', 'sms']\n",
      "orig_sms.head()"
     ],
     "language": "python",
     "metadata": {},
     "outputs": [
      {
       "html": [
        "<div style=\"max-height:1000px;max-width:1500px;overflow:auto;\">\n",
        "<table border=\"1\" class=\"dataframe\">\n",
        "  <thead>\n",
        "    <tr style=\"text-align: right;\">\n",
        "      <th></th>\n",
        "      <th>ham_spam</th>\n",
        "      <th>sms</th>\n",
        "    </tr>\n",
        "  </thead>\n",
        "  <tbody>\n",
        "    <tr>\n",
        "      <th>0</th>\n",
        "      <td>  ham</td>\n",
        "      <td>                     Ok lar... Joking wif u oni...</td>\n",
        "    </tr>\n",
        "    <tr>\n",
        "      <th>1</th>\n",
        "      <td> spam</td>\n",
        "      <td> Free entry in 2 a wkly comp to win FA Cup fina...</td>\n",
        "    </tr>\n",
        "    <tr>\n",
        "      <th>2</th>\n",
        "      <td>  ham</td>\n",
        "      <td> U dun say so early hor... U c already then say...</td>\n",
        "    </tr>\n",
        "    <tr>\n",
        "      <th>3</th>\n",
        "      <td>  ham</td>\n",
        "      <td> Nah I don't think he goes to usf, he lives aro...</td>\n",
        "    </tr>\n",
        "    <tr>\n",
        "      <th>4</th>\n",
        "      <td> spam</td>\n",
        "      <td> FreeMsg Hey there darling it's been 3 week's n...</td>\n",
        "    </tr>\n",
        "  </tbody>\n",
        "</table>\n",
        "</div>"
       ],
       "metadata": {},
       "output_type": "pyout",
       "prompt_number": 1,
       "text": [
        "  ham_spam                                                sms\n",
        "0      ham                      Ok lar... Joking wif u oni...\n",
        "1     spam  Free entry in 2 a wkly comp to win FA Cup fina...\n",
        "2      ham  U dun say so early hor... U c already then say...\n",
        "3      ham  Nah I don't think he goes to usf, he lives aro...\n",
        "4     spam  FreeMsg Hey there darling it's been 3 week's n..."
       ]
      }
     ],
     "prompt_number": 1
    },
    {
     "cell_type": "heading",
     "level": 1,
     "metadata": {},
     "source": [
      "Choose Features"
     ]
    },
    {
     "cell_type": "code",
     "collapsed": false,
     "input": [
      "orig_sms['claim_or_winner'] = [1 if re.search(r'claim|winner', row, re.IGNORECASE) else 0 for row in orig_sms['sms']]\n",
      "orig_sms['money_symbols'] = [1 if re.search(r'[$\u00a3]', row) else 0 for row in orig_sms['sms']]\n",
      "orig_sms['has_nums'] = [1 if re.search(r'\\d', row) else 0 for row in orig_sms['sms']]\n",
      "orig_sms['first_person'] = [0 if re.search(r'(\\bwe\\b|\\bI\\b|\\bme\\b)', row, re.IGNORECASE) else 1 for row in orig_sms['sms']]\n",
      "orig_sms['total_spam'] = orig_sms['claim_or_winner'] + orig_sms['money_symbols'] + orig_sms['has_nums'] + orig_sms['first_person']\n",
      "orig_sms['total_spam'] = [1 if row > 0 else 0 for row in orig_sms['total_spam']]\n",
      "orig_sms.head()"
     ],
     "language": "python",
     "metadata": {},
     "outputs": [
      {
       "html": [
        "<div style=\"max-height:1000px;max-width:1500px;overflow:auto;\">\n",
        "<table border=\"1\" class=\"dataframe\">\n",
        "  <thead>\n",
        "    <tr style=\"text-align: right;\">\n",
        "      <th></th>\n",
        "      <th>ham_spam</th>\n",
        "      <th>sms</th>\n",
        "      <th>claim_or_winner</th>\n",
        "      <th>money_symbols</th>\n",
        "      <th>has_nums</th>\n",
        "      <th>first_person</th>\n",
        "      <th>total_spam</th>\n",
        "    </tr>\n",
        "  </thead>\n",
        "  <tbody>\n",
        "    <tr>\n",
        "      <th>0</th>\n",
        "      <td> 0</td>\n",
        "      <td>                     Ok lar... Joking wif u oni...</td>\n",
        "      <td> 0</td>\n",
        "      <td> 0</td>\n",
        "      <td> 0</td>\n",
        "      <td> 1</td>\n",
        "      <td> 1</td>\n",
        "    </tr>\n",
        "    <tr>\n",
        "      <th>1</th>\n",
        "      <td> 1</td>\n",
        "      <td> Free entry in 2 a wkly comp to win FA Cup fina...</td>\n",
        "      <td> 0</td>\n",
        "      <td> 0</td>\n",
        "      <td> 1</td>\n",
        "      <td> 1</td>\n",
        "      <td> 1</td>\n",
        "    </tr>\n",
        "    <tr>\n",
        "      <th>2</th>\n",
        "      <td> 0</td>\n",
        "      <td> U dun say so early hor... U c already then say...</td>\n",
        "      <td> 0</td>\n",
        "      <td> 0</td>\n",
        "      <td> 0</td>\n",
        "      <td> 1</td>\n",
        "      <td> 1</td>\n",
        "    </tr>\n",
        "    <tr>\n",
        "      <th>3</th>\n",
        "      <td> 0</td>\n",
        "      <td> Nah I don't think he goes to usf, he lives aro...</td>\n",
        "      <td> 0</td>\n",
        "      <td> 0</td>\n",
        "      <td> 0</td>\n",
        "      <td> 0</td>\n",
        "      <td> 0</td>\n",
        "    </tr>\n",
        "    <tr>\n",
        "      <th>4</th>\n",
        "      <td> 1</td>\n",
        "      <td> FreeMsg Hey there darling it's been 3 week's n...</td>\n",
        "      <td> 0</td>\n",
        "      <td> 1</td>\n",
        "      <td> 1</td>\n",
        "      <td> 0</td>\n",
        "      <td> 1</td>\n",
        "    </tr>\n",
        "  </tbody>\n",
        "</table>\n",
        "</div>"
       ],
       "metadata": {},
       "output_type": "pyout",
       "prompt_number": 39,
       "text": [
        "   ham_spam                                                sms  \\\n",
        "0         0                      Ok lar... Joking wif u oni...   \n",
        "1         1  Free entry in 2 a wkly comp to win FA Cup fina...   \n",
        "2         0  U dun say so early hor... U c already then say...   \n",
        "3         0  Nah I don't think he goes to usf, he lives aro...   \n",
        "4         1  FreeMsg Hey there darling it's been 3 week's n...   \n",
        "\n",
        "   claim_or_winner  money_symbols  has_nums  first_person  total_spam  \n",
        "0                0              0         0             1           1  \n",
        "1                0              0         1             1           1  \n",
        "2                0              0         0             1           1  \n",
        "3                0              0         0             0           0  \n",
        "4                0              1         1             0           1  "
       ]
      }
     ],
     "prompt_number": 39
    },
    {
     "cell_type": "code",
     "collapsed": false,
     "input": [
      "def correct_count(column_name):\n",
      "    count = abs(orig_sms['ham_spam'] - orig_sms[column_name])\n",
      "    return 1 - (sum(count) / len(count))\n",
      "\n",
      "print('total_spam', correct_count('total_spam'))\n",
      "print('has_nums', correct_count('has_nums'))\n",
      "print('first_person', correct_count('first_person'))\n",
      "print('money_symbols', correct_count('money_symbols'))\n",
      "print('claim_or_winner', correct_count('claim_or_winner'))"
     ],
     "language": "python",
     "metadata": {},
     "outputs": [
      {
       "output_type": "stream",
       "stream": "stdout",
       "text": [
        "total_spam 0.506372285048\n",
        "has_nums 0.857476216119\n",
        "first_person 0.573505654281\n",
        "money_symbols 0.908633997487\n",
        "claim_or_winner 0.889068389876\n"
       ]
      }
     ],
     "prompt_number": 58
    },
    {
     "cell_type": "code",
     "collapsed": false,
     "input": [],
     "language": "python",
     "metadata": {},
     "outputs": [],
     "prompt_number": 58
    },
    {
     "cell_type": "code",
     "collapsed": false,
     "input": [],
     "language": "python",
     "metadata": {},
     "outputs": [],
     "prompt_number": 58
    },
    {
     "cell_type": "code",
     "collapsed": false,
     "input": [
      "correct_count('money_symbols')"
     ],
     "language": "python",
     "metadata": {},
     "outputs": [
      {
       "metadata": {},
       "output_type": "pyout",
       "prompt_number": 55,
       "text": [
        "0.90863399748698614"
       ]
      }
     ],
     "prompt_number": 55
    },
    {
     "cell_type": "code",
     "collapsed": false,
     "input": [
      "correct_count('claim_or_winner')"
     ],
     "language": "python",
     "metadata": {},
     "outputs": [
      {
       "metadata": {},
       "output_type": "pyout",
       "prompt_number": 53,
       "text": [
        "0.88906838987614434"
       ]
      }
     ],
     "prompt_number": 53
    },
    {
     "cell_type": "heading",
     "level": 1,
     "metadata": {},
     "source": [
      "K-Cluster Analysis"
     ]
    },
    {
     "cell_type": "code",
     "collapsed": false,
     "input": [
      "orig_sms['ham_spam'] = [1 if row == 'spam' else 0 for row in orig_sms['ham_spam']]\n",
      "prepped_sms = orig_sms.drop('sms', axis=1)"
     ],
     "language": "python",
     "metadata": {},
     "outputs": [],
     "prompt_number": 4
    },
    {
     "cell_type": "code",
     "collapsed": false,
     "input": [
      "kmeans = KMeans(4)\n",
      "kmeans.fit(prepped_sms)\n",
      "clusters = kmeans.predict(prepped_sms)\n",
      "clusters"
     ],
     "language": "python",
     "metadata": {},
     "outputs": [
      {
       "output_type": "stream",
       "stream": "stderr",
       "text": [
        "/Users/zackjcooper/.pyenv/versions/sandbox/lib/python3.4/site-packages/sklearn/cluster/k_means_.py:797: RuntimeWarning: Got data type int64, converted to float to avoid overflows\n",
        "  X = self._check_test_data(X)\n"
       ]
      },
      {
       "metadata": {},
       "output_type": "pyout",
       "prompt_number": 5,
       "text": [
        "array([1, 2, 1, ..., 1, 0, 1], dtype=int32)"
       ]
      }
     ],
     "prompt_number": 5
    },
    {
     "cell_type": "code",
     "collapsed": false,
     "input": [
      "kmeans.cluster_centers_"
     ],
     "language": "python",
     "metadata": {},
     "outputs": [
      {
       "metadata": {},
       "output_type": "pyout",
       "prompt_number": 6,
       "text": [
        "array([[  3.34608031e-03,   5.79397641e-16,   1.91204589e-03,\n",
        "         -1.46549439e-14,   1.00000000e+00],\n",
        "       [  1.48957299e-02,   4.92661467e-16,   9.93048659e-04,\n",
        "         -1.41553436e-14,  -1.19348975e-14],\n",
        "       [  1.00000000e+00,   1.81690141e-01,   3.61971831e-01,\n",
        "          9.97183099e-01,   1.38028169e-01],\n",
        "       [  1.33226763e-15,  -3.81639165e-16,   1.72185430e-02,\n",
        "          1.00000000e+00,   6.19867550e-01]])"
       ]
      }
     ],
     "prompt_number": 6
    },
    {
     "cell_type": "code",
     "collapsed": false,
     "input": [],
     "language": "python",
     "metadata": {},
     "outputs": [],
     "prompt_number": 6
    },
    {
     "cell_type": "code",
     "collapsed": false,
     "input": [],
     "language": "python",
     "metadata": {},
     "outputs": [],
     "prompt_number": 6
    },
    {
     "cell_type": "heading",
     "level": 1,
     "metadata": {},
     "source": [
      "Gaussian Naive Bayesian"
     ]
    },
    {
     "cell_type": "code",
     "collapsed": false,
     "input": [
      "sms_train = prepped_sms.values[0::,1::]\n",
      "sms_answer = prepped_sms.values[0::,0]\n",
      "x_train, x_test, y_train, y_test = train_test_split(sms_train, sms_answer, test_size=.4, random_state=0)\n",
      "\n",
      "def run_model(classifier, x_train, y_train, x_test, y_test, orig_train, orig_answ):\n",
      "\n",
      "    classifier.fit(x_train, y_train)\n",
      "    predicted = classifier.predict(x_test)\n",
      "\n",
      "    print(metrics.classification_report(y_test, predicted))\n",
      "    print(metrics.confusion_matrix(y_test, predicted))\n",
      "    scores = cross_val_score(classifier, orig_train, orig_answ, cv=5)\n",
      "    print(metrics.f1_score(y_test, predicted))\n",
      "\n",
      "run_model(GaussianNB(), x_train, y_train, x_test, y_test, sms_train, sms_answer)"
     ],
     "language": "python",
     "metadata": {},
     "outputs": [
      {
       "output_type": "stream",
       "stream": "stdout",
       "text": [
        "             precision    recall  f1-score   support\n",
        "\n",
        "          0       0.91      1.00      0.95      1908\n",
        "          1       0.94      0.41      0.57       321\n",
        "\n",
        "avg / total       0.91      0.91      0.90      2229\n",
        "\n",
        "[[1900    8]\n",
        " [ 189  132]]\n",
        "0.572668112798\n"
       ]
      }
     ],
     "prompt_number": 7
    },
    {
     "cell_type": "code",
     "collapsed": false,
     "input": [],
     "language": "python",
     "metadata": {},
     "outputs": [],
     "prompt_number": 7
    }
   ],
   "metadata": {}
  }
 ]
}